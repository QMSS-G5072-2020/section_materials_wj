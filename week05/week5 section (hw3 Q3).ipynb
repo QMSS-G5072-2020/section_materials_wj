{
 "cells": [
  {
   "cell_type": "code",
   "execution_count": 1,
   "metadata": {},
   "outputs": [],
   "source": [
    "import numpy as np\n",
    "import pandas as pd"
   ]
  },
  {
   "cell_type": "code",
   "execution_count": 2,
   "metadata": {},
   "outputs": [],
   "source": [
    "def cost_of_event(num_of_people, type='wedding', cost=50):\n",
    "    \n",
    "    net_cost = num_of_people * cost\n",
    "    \n",
    "    if type == 'wedding':\n",
    "        return net_cost * 1.5\n",
    "    elif type in ['corporate', 'private']:\n",
    "        return net_cost\n",
    "    else:\n",
    "        return"
   ]
  },
  {
   "cell_type": "code",
   "execution_count": 3,
   "metadata": {},
   "outputs": [],
   "source": [
    "def sales_tax(type, net_cost, tax_rate=0.1):\n",
    "    \n",
    "    if type == 'private' or type == 'wedding':\n",
    "        if net_cost <= 1000:\n",
    "            tax = 0\n",
    "        else:\n",
    "            tax = (net_cost - 1000) * tax_rate\n",
    "    elif type == 'corporate':\n",
    "        tax = net_cost * tax_rate\n",
    "    \n",
    "    return tax"
   ]
  },
  {
   "cell_type": "code",
   "execution_count": 4,
   "metadata": {},
   "outputs": [],
   "source": [
    "def event_calculator(num_of_people, **kwargs): \n",
    "    try: \n",
    "        # calculate the net cost\n",
    "        if (kwargs['type'] in ['wedding', 'private', 'corporate']) & (float(kwargs['cost']) >= 0):\n",
    "            net_cost = cost_of_event(num_of_people=num_of_people, type=kwargs['type'], cost=kwargs['cost'])\n",
    "\n",
    "        # calculate the tax\n",
    "        if kwargs['tax_rate'] >= 0:\n",
    "            tax = sales_tax(type=kwargs['type'], net_cost=net_cost, tax_rate=kwargs['tax_rate'])\n",
    "\n",
    "        # calculate the total amount \n",
    "        total_cost = net_cost + tax\n",
    "\n",
    "        # print results\n",
    "        return total_cost\n",
    "        \n",
    "    except:\n",
    "        print(\"Please check your input values.\")"
   ]
  },
  {
   "cell_type": "markdown",
   "metadata": {},
   "source": [
    "## 3. Multiple events\n",
    "\n",
    "Your friend really likes your calculator and would like to apply it retroactively to her database of events to check whether her past event quotes were correct. Alter your `event_calculator` from (2b) to now provide a total event cost (including tax) as a return value. Using the following data frame, show how you can check whether her previous estimates were correct. The solution should not simply copy-and-paste these values into your function but be programmatic so it could be applied to a much larger data frame:"
   ]
  },
  {
   "cell_type": "code",
   "execution_count": 5,
   "metadata": {},
   "outputs": [
    {
     "data": {
      "text/html": [
       "<div>\n",
       "<style scoped>\n",
       "    .dataframe tbody tr th:only-of-type {\n",
       "        vertical-align: middle;\n",
       "    }\n",
       "\n",
       "    .dataframe tbody tr th {\n",
       "        vertical-align: top;\n",
       "    }\n",
       "\n",
       "    .dataframe thead th {\n",
       "        text-align: right;\n",
       "    }\n",
       "</style>\n",
       "<table border=\"1\" class=\"dataframe\">\n",
       "  <thead>\n",
       "    <tr style=\"text-align: right;\">\n",
       "      <th></th>\n",
       "      <th>num_of_people</th>\n",
       "      <th>type</th>\n",
       "      <th>cost</th>\n",
       "      <th>sales_tax_rate</th>\n",
       "      <th>total_cost</th>\n",
       "    </tr>\n",
       "  </thead>\n",
       "  <tbody>\n",
       "    <tr>\n",
       "      <th>0</th>\n",
       "      <td>200</td>\n",
       "      <td>private</td>\n",
       "      <td>55</td>\n",
       "      <td>10</td>\n",
       "      <td>12100</td>\n",
       "    </tr>\n",
       "    <tr>\n",
       "      <th>1</th>\n",
       "      <td>150</td>\n",
       "      <td>wedding</td>\n",
       "      <td>280</td>\n",
       "      <td>10</td>\n",
       "      <td>69300</td>\n",
       "    </tr>\n",
       "    <tr>\n",
       "      <th>2</th>\n",
       "      <td>20</td>\n",
       "      <td>corporate</td>\n",
       "      <td>80</td>\n",
       "      <td>15</td>\n",
       "      <td>1840</td>\n",
       "    </tr>\n",
       "    <tr>\n",
       "      <th>3</th>\n",
       "      <td>8</td>\n",
       "      <td>private</td>\n",
       "      <td>100</td>\n",
       "      <td>10</td>\n",
       "      <td>880</td>\n",
       "    </tr>\n",
       "  </tbody>\n",
       "</table>\n",
       "</div>"
      ],
      "text/plain": [
       "   num_of_people       type  cost  sales_tax_rate  total_cost\n",
       "0            200    private    55              10       12100\n",
       "1            150    wedding   280              10       69300\n",
       "2             20  corporate    80              15        1840\n",
       "3              8    private   100              10         880"
      ]
     },
     "execution_count": 5,
     "metadata": {},
     "output_type": "execute_result"
    }
   ],
   "source": [
    "data = [(200, 'private', 55, 10, 12100), \n",
    "        (150, 'wedding', 280, 10, 69300), \n",
    "        (20, 'corporate', 80, 15, 1840), \n",
    "        (8, 'private', 100, 10, 880)]\n",
    "df_events = pd.DataFrame.from_records(data, columns=['num_of_people', 'type', 'cost', \n",
    "                                                     'sales_tax_rate', 'total_cost'])\n",
    "df_events"
   ]
  },
  {
   "cell_type": "markdown",
   "metadata": {},
   "source": [
    "Basically, we want to go through the dataframe and apply a function. "
   ]
  },
  {
   "cell_type": "markdown",
   "metadata": {},
   "source": [
    "### `apply()`"
   ]
  },
  {
   "cell_type": "code",
   "execution_count": 6,
   "metadata": {},
   "outputs": [],
   "source": [
    "df_events['calculated_total'] = df_events.\\\n",
    "                                apply(lambda x: event_calculator(num_of_people=x.num_of_people,\n",
    "                                                                 type=x.type, \n",
    "                                                                 cost=x.cost, \n",
    "                                                                 tax_rate=x.sales_tax_rate/100), axis=1)\n",
    "# axis=1: along columns, AKA apply function to each row\n",
    "axis='col...'"
   ]
  },
  {
   "cell_type": "code",
   "execution_count": 7,
   "metadata": {},
   "outputs": [
    {
     "data": {
      "text/html": [
       "<div>\n",
       "<style scoped>\n",
       "    .dataframe tbody tr th:only-of-type {\n",
       "        vertical-align: middle;\n",
       "    }\n",
       "\n",
       "    .dataframe tbody tr th {\n",
       "        vertical-align: top;\n",
       "    }\n",
       "\n",
       "    .dataframe thead th {\n",
       "        text-align: right;\n",
       "    }\n",
       "</style>\n",
       "<table border=\"1\" class=\"dataframe\">\n",
       "  <thead>\n",
       "    <tr style=\"text-align: right;\">\n",
       "      <th></th>\n",
       "      <th>num_of_people</th>\n",
       "      <th>type</th>\n",
       "      <th>cost</th>\n",
       "      <th>sales_tax_rate</th>\n",
       "      <th>total_cost</th>\n",
       "      <th>calculated_total</th>\n",
       "    </tr>\n",
       "  </thead>\n",
       "  <tbody>\n",
       "    <tr>\n",
       "      <th>0</th>\n",
       "      <td>200</td>\n",
       "      <td>private</td>\n",
       "      <td>55</td>\n",
       "      <td>10</td>\n",
       "      <td>12100</td>\n",
       "      <td>12000.0</td>\n",
       "    </tr>\n",
       "    <tr>\n",
       "      <th>1</th>\n",
       "      <td>150</td>\n",
       "      <td>wedding</td>\n",
       "      <td>280</td>\n",
       "      <td>10</td>\n",
       "      <td>69300</td>\n",
       "      <td>69200.0</td>\n",
       "    </tr>\n",
       "    <tr>\n",
       "      <th>2</th>\n",
       "      <td>20</td>\n",
       "      <td>corporate</td>\n",
       "      <td>80</td>\n",
       "      <td>15</td>\n",
       "      <td>1840</td>\n",
       "      <td>1840.0</td>\n",
       "    </tr>\n",
       "    <tr>\n",
       "      <th>3</th>\n",
       "      <td>8</td>\n",
       "      <td>private</td>\n",
       "      <td>100</td>\n",
       "      <td>10</td>\n",
       "      <td>880</td>\n",
       "      <td>800.0</td>\n",
       "    </tr>\n",
       "  </tbody>\n",
       "</table>\n",
       "</div>"
      ],
      "text/plain": [
       "   num_of_people       type  cost  sales_tax_rate  total_cost  \\\n",
       "0            200    private    55              10       12100   \n",
       "1            150    wedding   280              10       69300   \n",
       "2             20  corporate    80              15        1840   \n",
       "3              8    private   100              10         880   \n",
       "\n",
       "   calculated_total  \n",
       "0           12000.0  \n",
       "1           69200.0  \n",
       "2            1840.0  \n",
       "3             800.0  "
      ]
     },
     "execution_count": 7,
     "metadata": {},
     "output_type": "execute_result"
    }
   ],
   "source": [
    "df_events"
   ]
  },
  {
   "cell_type": "markdown",
   "metadata": {},
   "source": [
    "*Dividing by 100 because the input tax_rate is a percentage.* "
   ]
  },
  {
   "cell_type": "markdown",
   "metadata": {},
   "source": [
    "### for loop"
   ]
  },
  {
   "cell_type": "code",
   "execution_count": 8,
   "metadata": {},
   "outputs": [],
   "source": [
    "calculated_total = []\n",
    "for i in range(len(df_events)):\n",
    "    calculation = event_calculator(df_events['num_of_people'][i],\n",
    "                                   type = df_events['type'][i],\n",
    "                                   cost = df_events['cost'][i],\n",
    "                                   tax_rate = df_events['sales_tax_rate'][i])\n",
    "    calculated_total.append(calculation)"
   ]
  },
  {
   "cell_type": "code",
   "execution_count": 9,
   "metadata": {},
   "outputs": [
    {
     "data": {
      "text/plain": [
       "[111000, 683000.0, 25600, 800]"
      ]
     },
     "execution_count": 9,
     "metadata": {},
     "output_type": "execute_result"
    }
   ],
   "source": [
    "calculated_total"
   ]
  },
  {
   "cell_type": "markdown",
   "metadata": {},
   "source": [
    "### `iterrows()`\n"
   ]
  },
  {
   "cell_type": "code",
   "execution_count": 10,
   "metadata": {},
   "outputs": [],
   "source": [
    "calculated_total = []\n",
    "for x in df_events.iterrows():\n",
    "    calculated_total.append(event_calculator(num_of_people=x[1].num_of_people,\n",
    "                                             type=x[1].type, \n",
    "                                             cost=x[1].cost, \n",
    "                                             tax_rate=x[1].sales_tax_rate/100))"
   ]
  },
  {
   "cell_type": "code",
   "execution_count": 11,
   "metadata": {},
   "outputs": [
    {
     "data": {
      "text/plain": [
       "[12000.0, 69200.0, 1840.0, 800]"
      ]
     },
     "execution_count": 11,
     "metadata": {},
     "output_type": "execute_result"
    }
   ],
   "source": [
    "calculated_total"
   ]
  },
  {
   "cell_type": "code",
   "execution_count": 12,
   "metadata": {},
   "outputs": [
    {
     "data": {
      "text/html": [
       "<div>\n",
       "<style scoped>\n",
       "    .dataframe tbody tr th:only-of-type {\n",
       "        vertical-align: middle;\n",
       "    }\n",
       "\n",
       "    .dataframe tbody tr th {\n",
       "        vertical-align: top;\n",
       "    }\n",
       "\n",
       "    .dataframe thead th {\n",
       "        text-align: right;\n",
       "    }\n",
       "</style>\n",
       "<table border=\"1\" class=\"dataframe\">\n",
       "  <thead>\n",
       "    <tr style=\"text-align: right;\">\n",
       "      <th></th>\n",
       "      <th>int</th>\n",
       "      <th>float</th>\n",
       "    </tr>\n",
       "  </thead>\n",
       "  <tbody>\n",
       "    <tr>\n",
       "      <th>0</th>\n",
       "      <td>1</td>\n",
       "      <td>1.5</td>\n",
       "    </tr>\n",
       "    <tr>\n",
       "      <th>1</th>\n",
       "      <td>1</td>\n",
       "      <td>2.0</td>\n",
       "    </tr>\n",
       "  </tbody>\n",
       "</table>\n",
       "</div>"
      ],
      "text/plain": [
       "   int  float\n",
       "0    1    1.5\n",
       "1    1    2.0"
      ]
     },
     "execution_count": 12,
     "metadata": {},
     "output_type": "execute_result"
    }
   ],
   "source": [
    "df = pd.DataFrame([[1, 1.5], [1,2]], columns=['int', 'float'])\n",
    "df"
   ]
  }
 ],
 "metadata": {
  "kernelspec": {
   "display_name": "Python 3",
   "language": "python",
   "name": "python3"
  },
  "language_info": {
   "codemirror_mode": {
    "name": "ipython",
    "version": 3
   },
   "file_extension": ".py",
   "mimetype": "text/x-python",
   "name": "python",
   "nbconvert_exporter": "python",
   "pygments_lexer": "ipython3",
   "version": "3.8.5"
  }
 },
 "nbformat": 4,
 "nbformat_minor": 4
}
