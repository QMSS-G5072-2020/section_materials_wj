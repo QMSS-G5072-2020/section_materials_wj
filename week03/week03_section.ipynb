{
 "cells": [
  {
   "cell_type": "markdown",
   "metadata": {
    "slideshow": {
     "slide_type": "slide"
    }
   },
   "source": [
    "# Week03 Section \n",
    "\n",
    "## Data Wrangling with Pandas\n",
    "\n",
    "Wenjun Sun"
   ]
  },
  {
   "cell_type": "markdown",
   "metadata": {
    "slideshow": {
     "slide_type": "slide"
    }
   },
   "source": [
    "## What did we learn this week?\n",
    "\n",
    "Let's go through each topic, and please raise your hand (using Zoom's raise-hand button) if you have questions about this topic.\n"
   ]
  },
  {
   "cell_type": "markdown",
   "metadata": {
    "slideshow": {
     "slide_type": "subslide"
    }
   },
   "source": [
    "- Series and DataFrame\n",
    "- Load data \n",
    "- Exploratory Data Analysis (EDA): `info`, `head`, `shape`, `describe`, `unique`, `ProfileReport`\n",
    "- Method Chaining\n",
    "- Select columns and rows of a dataframe\n",
    "- Apply functions to a dataframe\n",
    "- `groupby` and summarize\n",
    "- Index\n",
    "- Reshape a dataframe\n",
    "- Visualize\n",
    "- Other topics"
   ]
  },
  {
   "cell_type": "markdown",
   "metadata": {
    "slideshow": {
     "slide_type": "slide"
    }
   },
   "source": [
    "## Topics we will cover today \n",
    "\n",
    "I planned some topics for this section. But I priorizie answering all of your questions. "
   ]
  },
  {
   "cell_type": "markdown",
   "metadata": {
    "slideshow": {
     "slide_type": "slide"
    }
   },
   "source": [
    "## Load and save data \n",
    "\n",
    "You should already know have to read in a dataset with `pd.read_..()`, for example `pd.read_csv()`. \n",
    "\n",
    "tutorial: https://pandas.pydata.org/pandas-docs/stable/user_guide/io.html"
   ]
  },
  {
   "cell_type": "code",
   "execution_count": 1,
   "metadata": {
    "slideshow": {
     "slide_type": "fragment"
    }
   },
   "outputs": [
    {
     "data": {
      "text/html": [
       "<div>\n",
       "<style scoped>\n",
       "    .dataframe tbody tr th:only-of-type {\n",
       "        vertical-align: middle;\n",
       "    }\n",
       "\n",
       "    .dataframe tbody tr th {\n",
       "        vertical-align: top;\n",
       "    }\n",
       "\n",
       "    .dataframe thead th {\n",
       "        text-align: right;\n",
       "    }\n",
       "</style>\n",
       "<table border=\"1\" class=\"dataframe\">\n",
       "  <thead>\n",
       "    <tr style=\"text-align: right;\">\n",
       "      <th></th>\n",
       "      <th>Armenia</th>\n",
       "      <th>Asia</th>\n",
       "    </tr>\n",
       "  </thead>\n",
       "  <tbody>\n",
       "    <tr>\n",
       "      <th>0</th>\n",
       "      <td>Algeria</td>\n",
       "      <td>Africa</td>\n",
       "    </tr>\n",
       "    <tr>\n",
       "      <th>1</th>\n",
       "      <td>U.S.S.R/Russia</td>\n",
       "      <td>Europe</td>\n",
       "    </tr>\n",
       "    <tr>\n",
       "      <th>2</th>\n",
       "      <td>U.S.</td>\n",
       "      <td>North America</td>\n",
       "    </tr>\n",
       "  </tbody>\n",
       "</table>\n",
       "</div>"
      ],
      "text/plain": [
       "          Armenia           Asia\n",
       "0         Algeria         Africa\n",
       "1  U.S.S.R/Russia         Europe\n",
       "2            U.S.  North America"
      ]
     },
     "execution_count": 1,
     "metadata": {},
     "output_type": "execute_result"
    }
   ],
   "source": [
    "import pandas as pd \n",
    "\n",
    "country = pd.read_csv('data/country.csv')\n",
    "country.head(3) #oops, no column name?"
   ]
  },
  {
   "cell_type": "code",
   "execution_count": 2,
   "metadata": {
    "slideshow": {
     "slide_type": "subslide"
    }
   },
   "outputs": [
    {
     "data": {
      "text/html": [
       "<div>\n",
       "<style scoped>\n",
       "    .dataframe tbody tr th:only-of-type {\n",
       "        vertical-align: middle;\n",
       "    }\n",
       "\n",
       "    .dataframe tbody tr th {\n",
       "        vertical-align: top;\n",
       "    }\n",
       "\n",
       "    .dataframe thead th {\n",
       "        text-align: right;\n",
       "    }\n",
       "</style>\n",
       "<table border=\"1\" class=\"dataframe\">\n",
       "  <thead>\n",
       "    <tr style=\"text-align: right;\">\n",
       "      <th></th>\n",
       "      <th>country</th>\n",
       "      <th>continent</th>\n",
       "    </tr>\n",
       "  </thead>\n",
       "  <tbody>\n",
       "    <tr>\n",
       "      <th>0</th>\n",
       "      <td>Armenia</td>\n",
       "      <td>Asia</td>\n",
       "    </tr>\n",
       "    <tr>\n",
       "      <th>1</th>\n",
       "      <td>Algeria</td>\n",
       "      <td>Africa</td>\n",
       "    </tr>\n",
       "    <tr>\n",
       "      <th>2</th>\n",
       "      <td>U.S.S.R/Russia</td>\n",
       "      <td>Europe</td>\n",
       "    </tr>\n",
       "  </tbody>\n",
       "</table>\n",
       "</div>"
      ],
      "text/plain": [
       "          country continent\n",
       "0         Armenia      Asia\n",
       "1         Algeria    Africa\n",
       "2  U.S.S.R/Russia    Europe"
      ]
     },
     "execution_count": 2,
     "metadata": {},
     "output_type": "execute_result"
    }
   ],
   "source": [
    "pd.read_csv('data/country.csv', names=['country', 'continent']).head(3)"
   ]
  },
  {
   "cell_type": "code",
   "execution_count": 3,
   "metadata": {
    "slideshow": {
     "slide_type": "fragment"
    }
   },
   "outputs": [
    {
     "data": {
      "text/html": [
       "<div>\n",
       "<style scoped>\n",
       "    .dataframe tbody tr th:only-of-type {\n",
       "        vertical-align: middle;\n",
       "    }\n",
       "\n",
       "    .dataframe tbody tr th {\n",
       "        vertical-align: top;\n",
       "    }\n",
       "\n",
       "    .dataframe thead th {\n",
       "        text-align: right;\n",
       "    }\n",
       "</style>\n",
       "<table border=\"1\" class=\"dataframe\">\n",
       "  <thead>\n",
       "    <tr style=\"text-align: right;\">\n",
       "      <th></th>\n",
       "      <th>continent</th>\n",
       "    </tr>\n",
       "    <tr>\n",
       "      <th>country</th>\n",
       "      <th></th>\n",
       "    </tr>\n",
       "  </thead>\n",
       "  <tbody>\n",
       "    <tr>\n",
       "      <th>Armenia</th>\n",
       "      <td>Asia</td>\n",
       "    </tr>\n",
       "    <tr>\n",
       "      <th>Algeria</th>\n",
       "      <td>Africa</td>\n",
       "    </tr>\n",
       "    <tr>\n",
       "      <th>U.S.S.R/Russia</th>\n",
       "      <td>Europe</td>\n",
       "    </tr>\n",
       "  </tbody>\n",
       "</table>\n",
       "</div>"
      ],
      "text/plain": [
       "               continent\n",
       "country                 \n",
       "Armenia             Asia\n",
       "Algeria           Africa\n",
       "U.S.S.R/Russia    Europe"
      ]
     },
     "execution_count": 3,
     "metadata": {},
     "output_type": "execute_result"
    }
   ],
   "source": [
    "pd.read_csv('data/country.csv', names=['country', 'continent'], index_col='country').head(3) # set a column as index"
   ]
  },
  {
   "cell_type": "markdown",
   "metadata": {
    "slideshow": {
     "slide_type": "subslide"
    }
   },
   "source": [
    "Similarly, we can save a DataFrame as a CSV file with `.to_csv()`"
   ]
  },
  {
   "cell_type": "code",
   "execution_count": 4,
   "metadata": {
    "slideshow": {
     "slide_type": "fragment"
    }
   },
   "outputs": [
    {
     "data": {
      "text/html": [
       "<div>\n",
       "<style scoped>\n",
       "    .dataframe tbody tr th:only-of-type {\n",
       "        vertical-align: middle;\n",
       "    }\n",
       "\n",
       "    .dataframe tbody tr th {\n",
       "        vertical-align: top;\n",
       "    }\n",
       "\n",
       "    .dataframe thead th {\n",
       "        text-align: right;\n",
       "    }\n",
       "</style>\n",
       "<table border=\"1\" class=\"dataframe\">\n",
       "  <thead>\n",
       "    <tr style=\"text-align: right;\">\n",
       "      <th></th>\n",
       "      <th>country</th>\n",
       "      <th>continent</th>\n",
       "    </tr>\n",
       "  </thead>\n",
       "  <tbody>\n",
       "    <tr>\n",
       "      <th>14</th>\n",
       "      <td>India</td>\n",
       "      <td>Asia</td>\n",
       "    </tr>\n",
       "    <tr>\n",
       "      <th>39</th>\n",
       "      <td>Denmark</td>\n",
       "      <td>Europe</td>\n",
       "    </tr>\n",
       "    <tr>\n",
       "      <th>20</th>\n",
       "      <td>Afghanistan</td>\n",
       "      <td>Asia</td>\n",
       "    </tr>\n",
       "    <tr>\n",
       "      <th>33</th>\n",
       "      <td>Israel</td>\n",
       "      <td>Asia</td>\n",
       "    </tr>\n",
       "    <tr>\n",
       "      <th>7</th>\n",
       "      <td>Czechoslovakia</td>\n",
       "      <td>Europe</td>\n",
       "    </tr>\n",
       "  </tbody>\n",
       "</table>\n",
       "</div>"
      ],
      "text/plain": [
       "           country continent\n",
       "14           India      Asia\n",
       "39         Denmark    Europe\n",
       "20     Afghanistan      Asia\n",
       "33          Israel      Asia\n",
       "7   Czechoslovakia    Europe"
      ]
     },
     "execution_count": 4,
     "metadata": {},
     "output_type": "execute_result"
    }
   ],
   "source": [
    "country = pd.read_csv('data/country.csv', names=['country', 'continent']).sample(5) # take a sample\n",
    "country"
   ]
  },
  {
   "cell_type": "code",
   "execution_count": 5,
   "metadata": {
    "slideshow": {
     "slide_type": "fragment"
    }
   },
   "outputs": [],
   "source": [
    "country.to_csv('data/country_sample.csv')"
   ]
  },
  {
   "cell_type": "markdown",
   "metadata": {
    "slideshow": {
     "slide_type": "slide"
    }
   },
   "source": [
    "## `.select_dtypes()`\n",
    "\n",
    "Return a subset of the DataFrame’s columns based on the column dtypes.\n",
    "\n",
    "tutorial: https://pandas.pydata.org/pandas-docs/stable/reference/api/pandas.DataFrame.select_dtypes.html?highlight=select_dtypes"
   ]
  },
  {
   "cell_type": "code",
   "execution_count": 6,
   "metadata": {
    "slideshow": {
     "slide_type": "fragment"
    }
   },
   "outputs": [
    {
     "data": {
      "text/html": [
       "<div>\n",
       "<style scoped>\n",
       "    .dataframe tbody tr th:only-of-type {\n",
       "        vertical-align: middle;\n",
       "    }\n",
       "\n",
       "    .dataframe tbody tr th {\n",
       "        vertical-align: top;\n",
       "    }\n",
       "\n",
       "    .dataframe thead th {\n",
       "        text-align: right;\n",
       "    }\n",
       "</style>\n",
       "<table border=\"1\" class=\"dataframe\">\n",
       "  <thead>\n",
       "    <tr style=\"text-align: right;\">\n",
       "      <th></th>\n",
       "      <th>name</th>\n",
       "      <th>gender</th>\n",
       "      <th>birth</th>\n",
       "      <th>nationality</th>\n",
       "      <th>military_civilian</th>\n",
       "      <th>mission_number</th>\n",
       "      <th>occupation</th>\n",
       "      <th>year_of_mission</th>\n",
       "      <th>mission_hours</th>\n",
       "      <th>mission_title</th>\n",
       "    </tr>\n",
       "  </thead>\n",
       "  <tbody>\n",
       "    <tr>\n",
       "      <th>0</th>\n",
       "      <td>Gagarin, Yuri</td>\n",
       "      <td>male</td>\n",
       "      <td>1934</td>\n",
       "      <td>U.S.S.R/Russia</td>\n",
       "      <td>military</td>\n",
       "      <td>1</td>\n",
       "      <td>pilot</td>\n",
       "      <td>1961</td>\n",
       "      <td>1.77</td>\n",
       "      <td>Vostok 1</td>\n",
       "    </tr>\n",
       "    <tr>\n",
       "      <th>1</th>\n",
       "      <td>Titov, Gherman</td>\n",
       "      <td>male</td>\n",
       "      <td>1935</td>\n",
       "      <td>U.S.S.R/Russia</td>\n",
       "      <td>military</td>\n",
       "      <td>1</td>\n",
       "      <td>pilot</td>\n",
       "      <td>1961</td>\n",
       "      <td>25.00</td>\n",
       "      <td>Vostok 2</td>\n",
       "    </tr>\n",
       "    <tr>\n",
       "      <th>2</th>\n",
       "      <td>Glenn, John H., Jr.</td>\n",
       "      <td>male</td>\n",
       "      <td>1921</td>\n",
       "      <td>U.S.</td>\n",
       "      <td>military</td>\n",
       "      <td>1</td>\n",
       "      <td>pilot</td>\n",
       "      <td>1962</td>\n",
       "      <td>5.00</td>\n",
       "      <td>MA-6</td>\n",
       "    </tr>\n",
       "  </tbody>\n",
       "</table>\n",
       "</div>"
      ],
      "text/plain": [
       "                  name gender  birth     nationality military_civilian  \\\n",
       "0        Gagarin, Yuri   male   1934  U.S.S.R/Russia          military   \n",
       "1       Titov, Gherman   male   1935  U.S.S.R/Russia          military   \n",
       "2  Glenn, John H., Jr.   male   1921            U.S.          military   \n",
       "\n",
       "   mission_number occupation  year_of_mission  mission_hours mission_title  \n",
       "0               1      pilot             1961           1.77      Vostok 1  \n",
       "1               1      pilot             1961          25.00      Vostok 2  \n",
       "2               1      pilot             1962           5.00          MA-6  "
      ]
     },
     "execution_count": 6,
     "metadata": {},
     "output_type": "execute_result"
    }
   ],
   "source": [
    "astronauts = pd.read_csv('data/astronauts.csv')\n",
    "astronauts.head(3) "
   ]
  },
  {
   "cell_type": "code",
   "execution_count": 7,
   "metadata": {
    "slideshow": {
     "slide_type": "subslide"
    }
   },
   "outputs": [
    {
     "data": {
      "text/html": [
       "<div>\n",
       "<style scoped>\n",
       "    .dataframe tbody tr th:only-of-type {\n",
       "        vertical-align: middle;\n",
       "    }\n",
       "\n",
       "    .dataframe tbody tr th {\n",
       "        vertical-align: top;\n",
       "    }\n",
       "\n",
       "    .dataframe thead th {\n",
       "        text-align: right;\n",
       "    }\n",
       "</style>\n",
       "<table border=\"1\" class=\"dataframe\">\n",
       "  <thead>\n",
       "    <tr style=\"text-align: right;\">\n",
       "      <th></th>\n",
       "      <th>birth</th>\n",
       "      <th>mission_number</th>\n",
       "      <th>year_of_mission</th>\n",
       "      <th>mission_hours</th>\n",
       "    </tr>\n",
       "  </thead>\n",
       "  <tbody>\n",
       "    <tr>\n",
       "      <th>0</th>\n",
       "      <td>1934</td>\n",
       "      <td>1</td>\n",
       "      <td>1961</td>\n",
       "      <td>1.77</td>\n",
       "    </tr>\n",
       "    <tr>\n",
       "      <th>1</th>\n",
       "      <td>1935</td>\n",
       "      <td>1</td>\n",
       "      <td>1961</td>\n",
       "      <td>25.00</td>\n",
       "    </tr>\n",
       "    <tr>\n",
       "      <th>2</th>\n",
       "      <td>1921</td>\n",
       "      <td>1</td>\n",
       "      <td>1962</td>\n",
       "      <td>5.00</td>\n",
       "    </tr>\n",
       "  </tbody>\n",
       "</table>\n",
       "</div>"
      ],
      "text/plain": [
       "   birth  mission_number  year_of_mission  mission_hours\n",
       "0   1934               1             1961           1.77\n",
       "1   1935               1             1961          25.00\n",
       "2   1921               1             1962           5.00"
      ]
     },
     "execution_count": 7,
     "metadata": {},
     "output_type": "execute_result"
    }
   ],
   "source": [
    "astronauts.select_dtypes('number').head(3)"
   ]
  },
  {
   "cell_type": "code",
   "execution_count": 8,
   "metadata": {
    "slideshow": {
     "slide_type": "fragment"
    }
   },
   "outputs": [
    {
     "data": {
      "text/html": [
       "<div>\n",
       "<style scoped>\n",
       "    .dataframe tbody tr th:only-of-type {\n",
       "        vertical-align: middle;\n",
       "    }\n",
       "\n",
       "    .dataframe tbody tr th {\n",
       "        vertical-align: top;\n",
       "    }\n",
       "\n",
       "    .dataframe thead th {\n",
       "        text-align: right;\n",
       "    }\n",
       "</style>\n",
       "<table border=\"1\" class=\"dataframe\">\n",
       "  <thead>\n",
       "    <tr style=\"text-align: right;\">\n",
       "      <th></th>\n",
       "      <th>name</th>\n",
       "      <th>gender</th>\n",
       "      <th>nationality</th>\n",
       "      <th>military_civilian</th>\n",
       "      <th>occupation</th>\n",
       "      <th>mission_title</th>\n",
       "    </tr>\n",
       "  </thead>\n",
       "  <tbody>\n",
       "    <tr>\n",
       "      <th>0</th>\n",
       "      <td>Gagarin, Yuri</td>\n",
       "      <td>male</td>\n",
       "      <td>U.S.S.R/Russia</td>\n",
       "      <td>military</td>\n",
       "      <td>pilot</td>\n",
       "      <td>Vostok 1</td>\n",
       "    </tr>\n",
       "    <tr>\n",
       "      <th>1</th>\n",
       "      <td>Titov, Gherman</td>\n",
       "      <td>male</td>\n",
       "      <td>U.S.S.R/Russia</td>\n",
       "      <td>military</td>\n",
       "      <td>pilot</td>\n",
       "      <td>Vostok 2</td>\n",
       "    </tr>\n",
       "    <tr>\n",
       "      <th>2</th>\n",
       "      <td>Glenn, John H., Jr.</td>\n",
       "      <td>male</td>\n",
       "      <td>U.S.</td>\n",
       "      <td>military</td>\n",
       "      <td>pilot</td>\n",
       "      <td>MA-6</td>\n",
       "    </tr>\n",
       "  </tbody>\n",
       "</table>\n",
       "</div>"
      ],
      "text/plain": [
       "                  name gender     nationality military_civilian occupation  \\\n",
       "0        Gagarin, Yuri   male  U.S.S.R/Russia          military      pilot   \n",
       "1       Titov, Gherman   male  U.S.S.R/Russia          military      pilot   \n",
       "2  Glenn, John H., Jr.   male            U.S.          military      pilot   \n",
       "\n",
       "  mission_title  \n",
       "0      Vostok 1  \n",
       "1      Vostok 2  \n",
       "2          MA-6  "
      ]
     },
     "execution_count": 8,
     "metadata": {},
     "output_type": "execute_result"
    }
   ],
   "source": [
    "astronauts.select_dtypes(exclude='number').head(3)"
   ]
  },
  {
   "cell_type": "markdown",
   "metadata": {
    "slideshow": {
     "slide_type": "subslide"
    }
   },
   "source": [
    "## track statistics over rows\n",
    "\n",
    "`cumsum()`, `cummax()`, `cummin()`, `cumprod()`\n",
    "\n",
    "tutorial: https://pandas.pydata.org/pandas-docs/stable/reference/api/pandas.DataFrame.cumsum.html?highlight=cumsum#pandas.DataFrame.cumsum"
   ]
  },
  {
   "cell_type": "code",
   "execution_count": 9,
   "metadata": {
    "slideshow": {
     "slide_type": "subslide"
    }
   },
   "outputs": [
    {
     "data": {
      "text/plain": [
       "0    2\n",
       "1    3\n",
       "2    5\n",
       "3   -1\n",
       "4    0\n",
       "dtype: int64"
      ]
     },
     "execution_count": 9,
     "metadata": {},
     "output_type": "execute_result"
    }
   ],
   "source": [
    "s = pd.Series([2, 3, 5, -1, 0])\n",
    "s"
   ]
  },
  {
   "cell_type": "code",
   "execution_count": 10,
   "metadata": {
    "slideshow": {
     "slide_type": "fragment"
    }
   },
   "outputs": [
    {
     "data": {
      "text/plain": [
       "0     2\n",
       "1     5\n",
       "2    10\n",
       "3     9\n",
       "4     9\n",
       "dtype: int64"
      ]
     },
     "execution_count": 10,
     "metadata": {},
     "output_type": "execute_result"
    }
   ],
   "source": [
    "s.cumsum()"
   ]
  },
  {
   "cell_type": "code",
   "execution_count": 11,
   "metadata": {
    "slideshow": {
     "slide_type": "fragment"
    }
   },
   "outputs": [
    {
     "data": {
      "text/plain": [
       "0     2\n",
       "1     6\n",
       "2    30\n",
       "3   -30\n",
       "4     0\n",
       "dtype: int64"
      ]
     },
     "execution_count": 11,
     "metadata": {},
     "output_type": "execute_result"
    }
   ],
   "source": [
    "s.cumprod()"
   ]
  },
  {
   "cell_type": "markdown",
   "metadata": {
    "slideshow": {
     "slide_type": "subslide"
    }
   },
   "source": [
    "`cumcount()` only works with grouped data"
   ]
  },
  {
   "cell_type": "code",
   "execution_count": 12,
   "metadata": {
    "slideshow": {
     "slide_type": "fragment"
    }
   },
   "outputs": [
    {
     "data": {
      "text/html": [
       "<div>\n",
       "<style scoped>\n",
       "    .dataframe tbody tr th:only-of-type {\n",
       "        vertical-align: middle;\n",
       "    }\n",
       "\n",
       "    .dataframe tbody tr th {\n",
       "        vertical-align: top;\n",
       "    }\n",
       "\n",
       "    .dataframe thead th {\n",
       "        text-align: right;\n",
       "    }\n",
       "</style>\n",
       "<table border=\"1\" class=\"dataframe\">\n",
       "  <thead>\n",
       "    <tr style=\"text-align: right;\">\n",
       "      <th></th>\n",
       "      <th>col</th>\n",
       "    </tr>\n",
       "  </thead>\n",
       "  <tbody>\n",
       "    <tr>\n",
       "      <th>0</th>\n",
       "      <td>a</td>\n",
       "    </tr>\n",
       "    <tr>\n",
       "      <th>1</th>\n",
       "      <td>a</td>\n",
       "    </tr>\n",
       "    <tr>\n",
       "      <th>2</th>\n",
       "      <td>a</td>\n",
       "    </tr>\n",
       "    <tr>\n",
       "      <th>3</th>\n",
       "      <td>b</td>\n",
       "    </tr>\n",
       "    <tr>\n",
       "      <th>4</th>\n",
       "      <td>b</td>\n",
       "    </tr>\n",
       "    <tr>\n",
       "      <th>5</th>\n",
       "      <td>a</td>\n",
       "    </tr>\n",
       "  </tbody>\n",
       "</table>\n",
       "</div>"
      ],
      "text/plain": [
       "  col\n",
       "0   a\n",
       "1   a\n",
       "2   a\n",
       "3   b\n",
       "4   b\n",
       "5   a"
      ]
     },
     "execution_count": 12,
     "metadata": {},
     "output_type": "execute_result"
    }
   ],
   "source": [
    "df = pd.DataFrame([['a'], ['a'], ['a'], ['b'], ['b'], ['a']],\n",
    "                  columns=['col'])\n",
    "df"
   ]
  },
  {
   "cell_type": "code",
   "execution_count": 13,
   "metadata": {
    "slideshow": {
     "slide_type": "fragment"
    }
   },
   "outputs": [
    {
     "data": {
      "text/plain": [
       "0    0\n",
       "1    1\n",
       "2    2\n",
       "3    0\n",
       "4    1\n",
       "5    3\n",
       "dtype: int64"
      ]
     },
     "execution_count": 13,
     "metadata": {},
     "output_type": "execute_result"
    }
   ],
   "source": [
    "df.groupby('col').cumcount()"
   ]
  },
  {
   "cell_type": "markdown",
   "metadata": {
    "slideshow": {
     "slide_type": "slide"
    }
   },
   "source": [
    "## `to_markdown()`\n",
    "\n",
    "Print DataFrame in Markdown-friendly format\n",
    "\n",
    "tutorial: https://pandas.pydata.org/pandas-docs/stable/reference/api/pandas.DataFrame.to_markdown.html?highlight=markdown#pandas.DataFrame.to_markdown"
   ]
  },
  {
   "cell_type": "code",
   "execution_count": 14,
   "metadata": {
    "slideshow": {
     "slide_type": "subslide"
    }
   },
   "outputs": [
    {
     "data": {
      "text/html": [
       "<div>\n",
       "<style scoped>\n",
       "    .dataframe tbody tr th:only-of-type {\n",
       "        vertical-align: middle;\n",
       "    }\n",
       "\n",
       "    .dataframe tbody tr th {\n",
       "        vertical-align: top;\n",
       "    }\n",
       "\n",
       "    .dataframe thead th {\n",
       "        text-align: right;\n",
       "    }\n",
       "</style>\n",
       "<table border=\"1\" class=\"dataframe\">\n",
       "  <thead>\n",
       "    <tr style=\"text-align: right;\">\n",
       "      <th></th>\n",
       "      <th>name</th>\n",
       "      <th>gender</th>\n",
       "      <th>birth</th>\n",
       "      <th>nationality</th>\n",
       "      <th>military_civilian</th>\n",
       "      <th>mission_number</th>\n",
       "      <th>occupation</th>\n",
       "      <th>year_of_mission</th>\n",
       "      <th>mission_hours</th>\n",
       "      <th>mission_title</th>\n",
       "    </tr>\n",
       "  </thead>\n",
       "  <tbody>\n",
       "    <tr>\n",
       "      <th>0</th>\n",
       "      <td>Gagarin, Yuri</td>\n",
       "      <td>male</td>\n",
       "      <td>1934</td>\n",
       "      <td>U.S.S.R/Russia</td>\n",
       "      <td>military</td>\n",
       "      <td>1</td>\n",
       "      <td>pilot</td>\n",
       "      <td>1961</td>\n",
       "      <td>1.77</td>\n",
       "      <td>Vostok 1</td>\n",
       "    </tr>\n",
       "    <tr>\n",
       "      <th>1</th>\n",
       "      <td>Titov, Gherman</td>\n",
       "      <td>male</td>\n",
       "      <td>1935</td>\n",
       "      <td>U.S.S.R/Russia</td>\n",
       "      <td>military</td>\n",
       "      <td>1</td>\n",
       "      <td>pilot</td>\n",
       "      <td>1961</td>\n",
       "      <td>25.00</td>\n",
       "      <td>Vostok 2</td>\n",
       "    </tr>\n",
       "    <tr>\n",
       "      <th>2</th>\n",
       "      <td>Glenn, John H., Jr.</td>\n",
       "      <td>male</td>\n",
       "      <td>1921</td>\n",
       "      <td>U.S.</td>\n",
       "      <td>military</td>\n",
       "      <td>1</td>\n",
       "      <td>pilot</td>\n",
       "      <td>1962</td>\n",
       "      <td>5.00</td>\n",
       "      <td>MA-6</td>\n",
       "    </tr>\n",
       "    <tr>\n",
       "      <th>3</th>\n",
       "      <td>Glenn, John H., Jr.</td>\n",
       "      <td>male</td>\n",
       "      <td>1921</td>\n",
       "      <td>U.S.</td>\n",
       "      <td>military</td>\n",
       "      <td>2</td>\n",
       "      <td>pilot</td>\n",
       "      <td>1998</td>\n",
       "      <td>213.00</td>\n",
       "      <td>STS-95</td>\n",
       "    </tr>\n",
       "    <tr>\n",
       "      <th>4</th>\n",
       "      <td>Carpenter, M. Scott</td>\n",
       "      <td>male</td>\n",
       "      <td>1925</td>\n",
       "      <td>U.S.</td>\n",
       "      <td>military</td>\n",
       "      <td>1</td>\n",
       "      <td>pilot</td>\n",
       "      <td>1962</td>\n",
       "      <td>5.00</td>\n",
       "      <td>Mercury-Atlas 7</td>\n",
       "    </tr>\n",
       "  </tbody>\n",
       "</table>\n",
       "</div>"
      ],
      "text/plain": [
       "                  name gender  birth     nationality military_civilian  \\\n",
       "0        Gagarin, Yuri   male   1934  U.S.S.R/Russia          military   \n",
       "1       Titov, Gherman   male   1935  U.S.S.R/Russia          military   \n",
       "2  Glenn, John H., Jr.   male   1921            U.S.          military   \n",
       "3  Glenn, John H., Jr.   male   1921            U.S.          military   \n",
       "4  Carpenter, M. Scott   male   1925            U.S.          military   \n",
       "\n",
       "   mission_number occupation  year_of_mission  mission_hours    mission_title  \n",
       "0               1      pilot             1961           1.77         Vostok 1  \n",
       "1               1      pilot             1961          25.00         Vostok 2  \n",
       "2               1      pilot             1962           5.00             MA-6  \n",
       "3               2      pilot             1998         213.00           STS-95  \n",
       "4               1      pilot             1962           5.00  Mercury-Atlas 7  "
      ]
     },
     "execution_count": 14,
     "metadata": {},
     "output_type": "execute_result"
    }
   ],
   "source": [
    "astronauts.head(5)"
   ]
  },
  {
   "cell_type": "code",
   "execution_count": 15,
   "metadata": {
    "slideshow": {
     "slide_type": "subslide"
    }
   },
   "outputs": [
    {
     "name": "stdout",
     "output_type": "stream",
     "text": [
      "|    | name                | gender   |   birth | nationality    | military_civilian   |   mission_number | occupation   |   year_of_mission |   mission_hours | mission_title   |\n",
      "|---:|:--------------------|:---------|--------:|:---------------|:--------------------|-----------------:|:-------------|------------------:|----------------:|:----------------|\n",
      "|  0 | Gagarin, Yuri       | male     |    1934 | U.S.S.R/Russia | military            |                1 | pilot        |              1961 |            1.77 | Vostok 1        |\n",
      "|  1 | Titov, Gherman      | male     |    1935 | U.S.S.R/Russia | military            |                1 | pilot        |              1961 |           25    | Vostok 2        |\n",
      "|  2 | Glenn, John H., Jr. | male     |    1921 | U.S.           | military            |                1 | pilot        |              1962 |            5    | MA-6            |\n",
      "|  3 | Glenn, John H., Jr. | male     |    1921 | U.S.           | military            |                2 | pilot        |              1998 |          213    | STS-95          |\n",
      "|  4 | Carpenter, M. Scott | male     |    1925 | U.S.           | military            |                1 | pilot        |              1962 |            5    | Mercury-Atlas 7 |\n"
     ]
    }
   ],
   "source": [
    "print(astronauts.head(5).to_markdown())"
   ]
  },
  {
   "cell_type": "markdown",
   "metadata": {
    "slideshow": {
     "slide_type": "subslide"
    }
   },
   "source": [
    "This is a markdown table:\n",
    "\n",
    "|    | name                | gender   |   birth | nationality    | military_civilian   |   mission_number | occupation   |   year_of_mission |   mission_hours | mission_title   |\n",
    "|---:|:--------------------|:---------|--------:|:---------------|:--------------------|-----------------:|:-------------|------------------:|----------------:|:----------------|\n",
    "|  0 | Gagarin, Yuri       | male     |    1934 | U.S.S.R/Russia | military            |                1 | pilot        |              1961 |            1.77 | Vostok 1        |\n",
    "|  1 | Titov, Gherman      | male     |    1935 | U.S.S.R/Russia | military            |                1 | pilot        |              1961 |           25    | Vostok 2        |\n",
    "|  2 | Glenn, John H., Jr. | male     |    1921 | U.S.           | military            |                1 | pilot        |              1962 |            5    | MA-6            |\n",
    "|  3 | Glenn, John H., Jr. | male     |    1921 | U.S.           | military            |                2 | pilot        |              1998 |          213    | STS-95          |\n",
    "|  4 | Carpenter, M. Scott | male     |    1925 | U.S.           | military            |                1 | pilot        |              1962 |            5    | Mercury-Atlas 7 |"
   ]
  },
  {
   "cell_type": "markdown",
   "metadata": {
    "slideshow": {
     "slide_type": "slide"
    }
   },
   "source": [
    "## show a progress bar\n",
    "\n",
    "tqdm is a very useful package that helps predict when theses operations will finish executing\n",
    "\n",
    "tutorial: https://github.com/tqdm/tqdm"
   ]
  },
  {
   "cell_type": "code",
   "execution_count": 16,
   "metadata": {
    "slideshow": {
     "slide_type": "subslide"
    }
   },
   "outputs": [],
   "source": [
    "import numpy as np\n",
    "from tqdm import tqdm, tqdm_notebook # install package tqdm first if necessary"
   ]
  },
  {
   "cell_type": "code",
   "execution_count": 17,
   "metadata": {
    "slideshow": {
     "slide_type": "fragment"
    }
   },
   "outputs": [
    {
     "name": "stderr",
     "output_type": "stream",
     "text": [
      "/usr/local/lib/python3.8/site-packages/tqdm/std.py:706: FutureWarning: The Panel class is removed from pandas. Accessing it from the top-level namespace will also be removed in the next version\n",
      "  from pandas import Panel\n",
      "100%|██████████| 1000/1000 [00:02<00:00, 448.48it/s]\n"
     ]
    },
    {
     "data": {
      "text/html": [
       "<div>\n",
       "<style scoped>\n",
       "    .dataframe tbody tr th:only-of-type {\n",
       "        vertical-align: middle;\n",
       "    }\n",
       "\n",
       "    .dataframe tbody tr th {\n",
       "        vertical-align: top;\n",
       "    }\n",
       "\n",
       "    .dataframe thead th {\n",
       "        text-align: right;\n",
       "    }\n",
       "</style>\n",
       "<table border=\"1\" class=\"dataframe\">\n",
       "  <thead>\n",
       "    <tr style=\"text-align: right;\">\n",
       "      <th></th>\n",
       "      <th>0</th>\n",
       "      <th>1</th>\n",
       "      <th>2</th>\n",
       "      <th>3</th>\n",
       "      <th>4</th>\n",
       "      <th>5</th>\n",
       "      <th>6</th>\n",
       "      <th>7</th>\n",
       "      <th>8</th>\n",
       "      <th>9</th>\n",
       "      <th>...</th>\n",
       "      <th>990</th>\n",
       "      <th>991</th>\n",
       "      <th>992</th>\n",
       "      <th>993</th>\n",
       "      <th>994</th>\n",
       "      <th>995</th>\n",
       "      <th>996</th>\n",
       "      <th>997</th>\n",
       "      <th>998</th>\n",
       "      <th>999</th>\n",
       "    </tr>\n",
       "  </thead>\n",
       "  <tbody>\n",
       "    <tr>\n",
       "      <th>0</th>\n",
       "      <td>3600</td>\n",
       "      <td>484</td>\n",
       "      <td>2809</td>\n",
       "      <td>2601</td>\n",
       "      <td>25</td>\n",
       "      <td>8649</td>\n",
       "      <td>576</td>\n",
       "      <td>8836</td>\n",
       "      <td>2116</td>\n",
       "      <td>1156</td>\n",
       "      <td>...</td>\n",
       "      <td>9409</td>\n",
       "      <td>4761</td>\n",
       "      <td>5041</td>\n",
       "      <td>49</td>\n",
       "      <td>1225</td>\n",
       "      <td>1296</td>\n",
       "      <td>3600</td>\n",
       "      <td>1764</td>\n",
       "      <td>64</td>\n",
       "      <td>400</td>\n",
       "    </tr>\n",
       "    <tr>\n",
       "      <th>1</th>\n",
       "      <td>2209</td>\n",
       "      <td>1296</td>\n",
       "      <td>3721</td>\n",
       "      <td>3364</td>\n",
       "      <td>5476</td>\n",
       "      <td>729</td>\n",
       "      <td>5929</td>\n",
       "      <td>8649</td>\n",
       "      <td>1521</td>\n",
       "      <td>8649</td>\n",
       "      <td>...</td>\n",
       "      <td>3364</td>\n",
       "      <td>196</td>\n",
       "      <td>9801</td>\n",
       "      <td>5776</td>\n",
       "      <td>1225</td>\n",
       "      <td>1849</td>\n",
       "      <td>784</td>\n",
       "      <td>1089</td>\n",
       "      <td>81</td>\n",
       "      <td>1936</td>\n",
       "    </tr>\n",
       "    <tr>\n",
       "      <th>2</th>\n",
       "      <td>3481</td>\n",
       "      <td>8100</td>\n",
       "      <td>1</td>\n",
       "      <td>1444</td>\n",
       "      <td>7225</td>\n",
       "      <td>784</td>\n",
       "      <td>5184</td>\n",
       "      <td>6724</td>\n",
       "      <td>361</td>\n",
       "      <td>576</td>\n",
       "      <td>...</td>\n",
       "      <td>7921</td>\n",
       "      <td>625</td>\n",
       "      <td>5329</td>\n",
       "      <td>841</td>\n",
       "      <td>5625</td>\n",
       "      <td>4356</td>\n",
       "      <td>5041</td>\n",
       "      <td>2025</td>\n",
       "      <td>2601</td>\n",
       "      <td>529</td>\n",
       "    </tr>\n",
       "    <tr>\n",
       "      <th>3</th>\n",
       "      <td>196</td>\n",
       "      <td>2209</td>\n",
       "      <td>6084</td>\n",
       "      <td>4624</td>\n",
       "      <td>64</td>\n",
       "      <td>3249</td>\n",
       "      <td>324</td>\n",
       "      <td>169</td>\n",
       "      <td>7569</td>\n",
       "      <td>400</td>\n",
       "      <td>...</td>\n",
       "      <td>144</td>\n",
       "      <td>3249</td>\n",
       "      <td>1521</td>\n",
       "      <td>3136</td>\n",
       "      <td>729</td>\n",
       "      <td>4225</td>\n",
       "      <td>4761</td>\n",
       "      <td>1849</td>\n",
       "      <td>7396</td>\n",
       "      <td>2304</td>\n",
       "    </tr>\n",
       "    <tr>\n",
       "      <th>4</th>\n",
       "      <td>2500</td>\n",
       "      <td>2025</td>\n",
       "      <td>3969</td>\n",
       "      <td>9801</td>\n",
       "      <td>3844</td>\n",
       "      <td>100</td>\n",
       "      <td>2809</td>\n",
       "      <td>1</td>\n",
       "      <td>4</td>\n",
       "      <td>2116</td>\n",
       "      <td>...</td>\n",
       "      <td>625</td>\n",
       "      <td>225</td>\n",
       "      <td>5476</td>\n",
       "      <td>25</td>\n",
       "      <td>225</td>\n",
       "      <td>576</td>\n",
       "      <td>144</td>\n",
       "      <td>5476</td>\n",
       "      <td>4761</td>\n",
       "      <td>4624</td>\n",
       "    </tr>\n",
       "    <tr>\n",
       "      <th>...</th>\n",
       "      <td>...</td>\n",
       "      <td>...</td>\n",
       "      <td>...</td>\n",
       "      <td>...</td>\n",
       "      <td>...</td>\n",
       "      <td>...</td>\n",
       "      <td>...</td>\n",
       "      <td>...</td>\n",
       "      <td>...</td>\n",
       "      <td>...</td>\n",
       "      <td>...</td>\n",
       "      <td>...</td>\n",
       "      <td>...</td>\n",
       "      <td>...</td>\n",
       "      <td>...</td>\n",
       "      <td>...</td>\n",
       "      <td>...</td>\n",
       "      <td>...</td>\n",
       "      <td>...</td>\n",
       "      <td>...</td>\n",
       "      <td>...</td>\n",
       "    </tr>\n",
       "    <tr>\n",
       "      <th>99995</th>\n",
       "      <td>1936</td>\n",
       "      <td>2500</td>\n",
       "      <td>1600</td>\n",
       "      <td>144</td>\n",
       "      <td>100</td>\n",
       "      <td>6724</td>\n",
       "      <td>121</td>\n",
       "      <td>2401</td>\n",
       "      <td>1681</td>\n",
       "      <td>25</td>\n",
       "      <td>...</td>\n",
       "      <td>4356</td>\n",
       "      <td>5476</td>\n",
       "      <td>5776</td>\n",
       "      <td>2916</td>\n",
       "      <td>169</td>\n",
       "      <td>1089</td>\n",
       "      <td>7744</td>\n",
       "      <td>576</td>\n",
       "      <td>6561</td>\n",
       "      <td>8281</td>\n",
       "    </tr>\n",
       "    <tr>\n",
       "      <th>99996</th>\n",
       "      <td>3969</td>\n",
       "      <td>8649</td>\n",
       "      <td>7921</td>\n",
       "      <td>8100</td>\n",
       "      <td>5625</td>\n",
       "      <td>2601</td>\n",
       "      <td>1600</td>\n",
       "      <td>225</td>\n",
       "      <td>4356</td>\n",
       "      <td>6561</td>\n",
       "      <td>...</td>\n",
       "      <td>4489</td>\n",
       "      <td>676</td>\n",
       "      <td>6561</td>\n",
       "      <td>144</td>\n",
       "      <td>81</td>\n",
       "      <td>1681</td>\n",
       "      <td>441</td>\n",
       "      <td>8649</td>\n",
       "      <td>7921</td>\n",
       "      <td>3969</td>\n",
       "    </tr>\n",
       "    <tr>\n",
       "      <th>99997</th>\n",
       "      <td>1225</td>\n",
       "      <td>8100</td>\n",
       "      <td>9</td>\n",
       "      <td>3721</td>\n",
       "      <td>529</td>\n",
       "      <td>2601</td>\n",
       "      <td>1849</td>\n",
       "      <td>5184</td>\n",
       "      <td>3364</td>\n",
       "      <td>625</td>\n",
       "      <td>...</td>\n",
       "      <td>4489</td>\n",
       "      <td>3481</td>\n",
       "      <td>1444</td>\n",
       "      <td>5776</td>\n",
       "      <td>2304</td>\n",
       "      <td>1444</td>\n",
       "      <td>2116</td>\n",
       "      <td>3969</td>\n",
       "      <td>100</td>\n",
       "      <td>8464</td>\n",
       "    </tr>\n",
       "    <tr>\n",
       "      <th>99998</th>\n",
       "      <td>5329</td>\n",
       "      <td>1681</td>\n",
       "      <td>225</td>\n",
       "      <td>2601</td>\n",
       "      <td>25</td>\n",
       "      <td>1024</td>\n",
       "      <td>400</td>\n",
       "      <td>1296</td>\n",
       "      <td>1681</td>\n",
       "      <td>3600</td>\n",
       "      <td>...</td>\n",
       "      <td>5476</td>\n",
       "      <td>7056</td>\n",
       "      <td>121</td>\n",
       "      <td>25</td>\n",
       "      <td>9801</td>\n",
       "      <td>6724</td>\n",
       "      <td>1089</td>\n",
       "      <td>16</td>\n",
       "      <td>100</td>\n",
       "      <td>900</td>\n",
       "    </tr>\n",
       "    <tr>\n",
       "      <th>99999</th>\n",
       "      <td>8281</td>\n",
       "      <td>196</td>\n",
       "      <td>6400</td>\n",
       "      <td>49</td>\n",
       "      <td>3969</td>\n",
       "      <td>144</td>\n",
       "      <td>7921</td>\n",
       "      <td>3969</td>\n",
       "      <td>36</td>\n",
       "      <td>5041</td>\n",
       "      <td>...</td>\n",
       "      <td>49</td>\n",
       "      <td>900</td>\n",
       "      <td>64</td>\n",
       "      <td>900</td>\n",
       "      <td>5929</td>\n",
       "      <td>5625</td>\n",
       "      <td>2809</td>\n",
       "      <td>1521</td>\n",
       "      <td>6724</td>\n",
       "      <td>484</td>\n",
       "    </tr>\n",
       "  </tbody>\n",
       "</table>\n",
       "<p>100000 rows × 1000 columns</p>\n",
       "</div>"
      ],
      "text/plain": [
       "        0     1     2     3     4     5     6     7     8     9    ...   990  \\\n",
       "0      3600   484  2809  2601    25  8649   576  8836  2116  1156  ...  9409   \n",
       "1      2209  1296  3721  3364  5476   729  5929  8649  1521  8649  ...  3364   \n",
       "2      3481  8100     1  1444  7225   784  5184  6724   361   576  ...  7921   \n",
       "3       196  2209  6084  4624    64  3249   324   169  7569   400  ...   144   \n",
       "4      2500  2025  3969  9801  3844   100  2809     1     4  2116  ...   625   \n",
       "...     ...   ...   ...   ...   ...   ...   ...   ...   ...   ...  ...   ...   \n",
       "99995  1936  2500  1600   144   100  6724   121  2401  1681    25  ...  4356   \n",
       "99996  3969  8649  7921  8100  5625  2601  1600   225  4356  6561  ...  4489   \n",
       "99997  1225  8100     9  3721   529  2601  1849  5184  3364   625  ...  4489   \n",
       "99998  5329  1681   225  2601    25  1024   400  1296  1681  3600  ...  5476   \n",
       "99999  8281   196  6400    49  3969   144  7921  3969    36  5041  ...    49   \n",
       "\n",
       "        991   992   993   994   995   996   997   998   999  \n",
       "0      4761  5041    49  1225  1296  3600  1764    64   400  \n",
       "1       196  9801  5776  1225  1849   784  1089    81  1936  \n",
       "2       625  5329   841  5625  4356  5041  2025  2601   529  \n",
       "3      3249  1521  3136   729  4225  4761  1849  7396  2304  \n",
       "4       225  5476    25   225   576   144  5476  4761  4624  \n",
       "...     ...   ...   ...   ...   ...   ...   ...   ...   ...  \n",
       "99995  5476  5776  2916   169  1089  7744   576  6561  8281  \n",
       "99996   676  6561   144    81  1681   441  8649  7921  3969  \n",
       "99997  3481  1444  5776  2304  1444  2116  3969   100  8464  \n",
       "99998  7056   121    25  9801  6724  1089    16   100   900  \n",
       "99999   900    64   900  5929  5625  2809  1521  6724   484  \n",
       "\n",
       "[100000 rows x 1000 columns]"
      ]
     },
     "execution_count": 17,
     "metadata": {},
     "output_type": "execute_result"
    }
   ],
   "source": [
    "df = pd.DataFrame(np.random.randint(0, 100, (100000, 1000)))\n",
    "\n",
    "# instantiate\n",
    "tqdm.pandas()\n",
    "\n",
    "# Now you can use `progress_apply` instead of `apply`\n",
    "df.progress_apply(lambda x: x**2)"
   ]
  },
  {
   "cell_type": "markdown",
   "metadata": {
    "slideshow": {
     "slide_type": "slide"
    }
   },
   "source": [
    "## Other topics I think useful\n",
    "\n",
    "- [MultiIndex / advanced indexing](https://pandas.pydata.org/pandas-docs/stable/user_guide/advanced.html)\n",
    "- [How to handle time series data with ease?](https://pandas.pydata.org/docs/getting_started/intro_tutorials/09_timeseries.html)"
   ]
  },
  {
   "cell_type": "markdown",
   "metadata": {
    "slideshow": {
     "slide_type": "slide"
    }
   },
   "source": [
    "## Feedback is a gift! \n",
    "\n",
    "![](where_feedback.png)"
   ]
  },
  {
   "cell_type": "markdown",
   "metadata": {
    "slideshow": {
     "slide_type": "subslide"
    }
   },
   "source": [
    "![](form_feedback.png)"
   ]
  }
 ],
 "metadata": {
  "celltoolbar": "Slideshow",
  "kernelspec": {
   "display_name": "Python 3",
   "language": "python",
   "name": "python3"
  },
  "language_info": {
   "codemirror_mode": {
    "name": "ipython",
    "version": 3
   },
   "file_extension": ".py",
   "mimetype": "text/x-python",
   "name": "python",
   "nbconvert_exporter": "python",
   "pygments_lexer": "ipython3",
   "version": "3.8.5"
  }
 },
 "nbformat": 4,
 "nbformat_minor": 4
}
